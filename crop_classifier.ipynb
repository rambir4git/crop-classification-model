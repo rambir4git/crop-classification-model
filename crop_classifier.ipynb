{
  "nbformat": 4,
  "nbformat_minor": 0,
  "metadata": {
    "colab": {
      "name": "crop_classifier.ipynb",
      "provenance": [],
      "collapsed_sections": [],
      "include_colab_link": true
    },
    "kernelspec": {
      "name": "python3",
      "display_name": "Python 3"
    },
    "accelerator": "GPU"
  },
  "cells": [
    {
      "cell_type": "markdown",
      "metadata": {
        "id": "view-in-github",
        "colab_type": "text"
      },
      "source": [
        "<a href=\"https://colab.research.google.com/github/rambir4git/crop-classification-model/blob/master/crop_classifier.ipynb\" target=\"_parent\"><img src=\"https://colab.research.google.com/assets/colab-badge.svg\" alt=\"Open In Colab\"/></a>"
      ]
    },
    {
      "cell_type": "code",
      "metadata": {
        "id": "Hv4B5hOg3bIM",
        "colab_type": "code",
        "colab": {}
      },
      "source": [
        "#Use tensorflow 2.x\n",
        "!pip install --upgrade tensorflow-gpu"
      ],
      "execution_count": 0,
      "outputs": []
    },
    {
      "cell_type": "code",
      "metadata": {
        "id": "RWFG2bcMqhpF",
        "colab_type": "code",
        "outputId": "f53ff86c-d5b7-4d45-fa98-fa4a175da14e",
        "colab": {
          "base_uri": "https://localhost:8080/",
          "height": 84
        }
      },
      "source": [
        "import tensorflow as tf\n",
        "import tensorflow_hub as hub\n",
        "import keras as keras\n",
        "\n",
        "import itertools\n",
        "import os\n",
        "import matplotlib.pylab as plt\n",
        "import numpy as np\n",
        "print(\"TF version:\", tf.__version__)\n",
        "print(\"Hub version:\", hub.__version__)\n",
        "print(\" Keras version:\", keras.__version__)"
      ],
      "execution_count": 0,
      "outputs": [
        {
          "output_type": "stream",
          "text": [
            "TF version: 2.1.0\n",
            "Hub version: 0.7.0\n",
            " Keras version: 2.2.5\n"
          ],
          "name": "stdout"
        },
        {
          "output_type": "stream",
          "text": [
            "Using TensorFlow backend.\n"
          ],
          "name": "stderr"
        }
      ]
    },
    {
      "cell_type": "code",
      "metadata": {
        "id": "LRw8xYuVmPYw",
        "colab_type": "code",
        "colab": {}
      },
      "source": [
        "#Mount GDrive if needed\n",
        "from google.colab import drive\n",
        "drive.mount('gdrive')"
      ],
      "execution_count": 0,
      "outputs": []
    },
    {
      "cell_type": "code",
      "metadata": {
        "id": "f7JI1lLrW1g-",
        "colab_type": "code",
        "colab": {}
      },
      "source": [
        "#This code scraps Google Images\n",
        "!pip install google_images_download\n",
        "!apt install chromium-chromedriver\n",
        "from selenium import webdriver\n",
        "chrome_options = webdriver.ChromeOptions()\n",
        "chrome_options.add_argument('--headless')\n",
        "chrome_options.add_argument('--no-sandbox')\n",
        "chrome_options.add_argument('--disable-dev-shm-usage')\n",
        "wd = webdriver.Chrome('chromedriver',options=chrome_options)\n",
        "from google_images_download import google_images_download   #importing the library\n",
        "response = google_images_download.googleimagesdownload()   #class instantiation\n",
        "arguments = {\"keywords\":\"cotton fields,'Cabbage'\",\"limit\":2000,\n",
        "             \"print_urls\":False,\n",
        "             \"chromedriver\":\"/usr/bin/chromedriver\",\n",
        "             \"output_directory\":\"gdrive/My Drive/Colab Notebooks/dataset\"}   #creating list of arguments\n",
        "paths = response.download(arguments)   #passing the arguments to the function"
      ],
      "execution_count": 0,
      "outputs": []
    },
    {
      "cell_type": "code",
      "metadata": {
        "id": "W61Jicy2unwt",
        "colab_type": "code",
        "outputId": "26bb5a76-2d85-40cf-fe15-8c69fb6ad442",
        "colab": {
          "base_uri": "https://localhost:8080/",
          "height": 67
        }
      },
      "source": [
        "#Update this directory according to data set\n",
        "data_dir=\"gdrive/My Drive/Colab Notebooks/dataset\"\n",
        "datagen_kwargs = dict(rescale=1./255, validation_split=.20)\n",
        "dataflow_kwargs = dict(target_size=(299,299), batch_size=64)\n",
        "\n",
        "valid_datagen = tf.keras.preprocessing.image.ImageDataGenerator(\n",
        "    **datagen_kwargs)\n",
        "valid_generator = valid_datagen.flow_from_directory(\n",
        "    data_dir, subset=\"validation\", shuffle=False, **dataflow_kwargs)\n",
        "\n",
        "train_datagen = tf.keras.preprocessing.image.ImageDataGenerator(\n",
        "      rotation_range=40,\n",
        "      horizontal_flip=True,\n",
        "      width_shift_range=0.2, height_shift_range=0.2,\n",
        "      shear_range=0.2, zoom_range=0.2,\n",
        "      **datagen_kwargs)\n",
        "train_generator = train_datagen.flow_from_directory(\n",
        "    data_dir, subset=\"training\", shuffle=True, **dataflow_kwargs)\n",
        "print(train_generator.class_indices)"
      ],
      "execution_count": 0,
      "outputs": [
        {
          "output_type": "stream",
          "text": [
            "Found 818 images belonging to 9 classes.\n",
            "Found 3288 images belonging to 9 classes.\n",
            "{'Cotton': 0, 'Maize (Corn)': 1, 'Mustard': 2, 'Potato': 3, 'Rice (Paddy)': 4, 'Sugarcane': 5, 'Tea': 6, 'Tomato': 7, 'Wheat': 8}\n"
          ],
          "name": "stdout"
        }
      ]
    },
    {
      "cell_type": "code",
      "metadata": {
        "id": "OM822sLB7vmT",
        "colab_type": "code",
        "colab": {}
      },
      "source": [
        ""
      ],
      "execution_count": 0,
      "outputs": []
    },
    {
      "cell_type": "code",
      "metadata": {
        "id": "1GoozlowvxCQ",
        "colab_type": "code",
        "outputId": "1dacfe78-f1ed-46c4-9c51-0703c451baf4",
        "colab": {
          "base_uri": "https://localhost:8080/",
          "height": 252
        }
      },
      "source": [
        "model = tf.keras.Sequential([\n",
        "    hub.KerasLayer(\"https://tfhub.dev/google/inaturalist/inception_v3/feature_vector/4\",\n",
        "                   trainable=True, arguments=dict(batch_norm_momentum=0.997)),\n",
        "    tf.keras.layers.Dropout(rate=0.2),\n",
        "    tf.keras.layers.Dense(train_generator.num_classes, activation='softmax',\n",
        "                          kernel_regularizer=tf.keras.regularizers.l2(0.0001))\n",
        "])\n",
        "model.build([None,299,299,3])\n",
        "model.summary()"
      ],
      "execution_count": 0,
      "outputs": [
        {
          "output_type": "stream",
          "text": [
            "Model: \"sequential\"\n",
            "_________________________________________________________________\n",
            "Layer (type)                 Output Shape              Param #   \n",
            "=================================================================\n",
            "keras_layer (KerasLayer)     multiple                  21802784  \n",
            "_________________________________________________________________\n",
            "dropout (Dropout)            multiple                  0         \n",
            "_________________________________________________________________\n",
            "dense (Dense)                multiple                  18441     \n",
            "=================================================================\n",
            "Total params: 21,821,225\n",
            "Trainable params: 21,786,793\n",
            "Non-trainable params: 34,432\n",
            "_________________________________________________________________\n"
          ],
          "name": "stdout"
        }
      ]
    },
    {
      "cell_type": "code",
      "metadata": {
        "id": "IkkcaBRJwey_",
        "colab_type": "code",
        "colab": {}
      },
      "source": [
        "model.compile(\n",
        "  optimizer=tf.keras.optimizers.SGD(lr=0.005, momentum=0.9), \n",
        "  loss=tf.keras.losses.CategoricalCrossentropy(label_smoothing=0.1),\n",
        "  metrics=['accuracy'])"
      ],
      "execution_count": 0,
      "outputs": []
    },
    {
      "cell_type": "code",
      "metadata": {
        "id": "qpK5vIgnwnEf",
        "colab_type": "code",
        "outputId": "91175b19-b72d-4d47-d1db-329d0c793820",
        "colab": {
          "base_uri": "https://localhost:8080/",
          "height": 524
        }
      },
      "source": [
        "steps_per_epoch = train_generator.samples // train_generator.batch_size\n",
        "validation_steps = valid_generator.samples // valid_generator.batch_size\n",
        "hist = model.fit(\n",
        "    train_generator,\n",
        "    epochs=32, steps_per_epoch=steps_per_epoch,\n",
        "    validation_data=valid_generator,\n",
        "    validation_steps=validation_steps).history"
      ],
      "execution_count": 0,
      "outputs": [
        {
          "output_type": "stream",
          "text": [
            "WARNING:tensorflow:sample_weight modes were coerced from\n",
            "  ...\n",
            "    to  \n",
            "  ['...']\n"
          ],
          "name": "stdout"
        },
        {
          "output_type": "stream",
          "text": [
            "WARNING:tensorflow:sample_weight modes were coerced from\n",
            "  ...\n",
            "    to  \n",
            "  ['...']\n"
          ],
          "name": "stderr"
        },
        {
          "output_type": "stream",
          "text": [
            "Train for 51 steps, validate for 12 steps\n",
            "Epoch 1/32\n",
            "18/51 [=========>....................] - ETA: 17:51 - loss: 2.2021 - accuracy: 0.3611"
          ],
          "name": "stdout"
        },
        {
          "output_type": "stream",
          "text": [
            "/usr/local/lib/python3.6/dist-packages/PIL/Image.py:989: UserWarning: Palette images with Transparency expressed in bytes should be converted to RGBA images\n",
            "  \"Palette images with Transparency expressed in bytes should be \"\n"
          ],
          "name": "stderr"
        },
        {
          "output_type": "stream",
          "text": [
            "32/51 [=================>............] - ETA: 9:59 - loss: 1.9142 - accuracy: 0.4990 "
          ],
          "name": "stdout"
        },
        {
          "output_type": "stream",
          "text": [
            "/usr/local/lib/python3.6/dist-packages/PIL/TiffImagePlugin.py:802: UserWarning: Corrupt EXIF data.  Expecting to read 4 bytes but only got 0. \n",
            "  warnings.warn(str(msg))\n"
          ],
          "name": "stderr"
        },
        {
          "output_type": "stream",
          "text": [
            "51/51 [==============================] - 1918s 38s/step - loss: 1.7006 - accuracy: 0.5980 - val_loss: 1.3997 - val_accuracy: 0.7305\n",
            "Epoch 2/32\n",
            "51/51 [==============================] - 160s 3s/step - loss: 1.1571 - accuracy: 0.8443 - val_loss: 1.2908 - val_accuracy: 0.7891\n",
            "Epoch 3/32\n",
            "51/51 [==============================] - 158s 3s/step - loss: 1.0214 - accuracy: 0.9069 - val_loss: 1.3463 - val_accuracy: 0.7682\n",
            "Epoch 4/32\n",
            "51/51 [==============================] - 159s 3s/step - loss: 0.9488 - accuracy: 0.9408 - val_loss: 1.1965 - val_accuracy: 0.8242\n",
            "Epoch 5/32\n",
            "51/51 [==============================] - 158s 3s/step - loss: 0.9066 - accuracy: 0.9581 - val_loss: 1.3235 - val_accuracy: 0.7695\n",
            "Epoch 6/32\n",
            "51/51 [==============================] - 159s 3s/step - loss: 0.8651 - accuracy: 0.9758 - val_loss: 1.2003 - val_accuracy: 0.8268\n",
            "Epoch 7/32\n",
            "51/51 [==============================] - 158s 3s/step - loss: 0.8452 - accuracy: 0.9857 - val_loss: 1.1897 - val_accuracy: 0.8333\n",
            "Epoch 8/32\n",
            "10/51 [====>.........................] - ETA: 2:04 - loss: 0.8351 - accuracy: 0.9906"
          ],
          "name": "stdout"
        }
      ]
    },
    {
      "cell_type": "code",
      "metadata": {
        "id": "BYQKBniW8zjU",
        "colab_type": "code",
        "outputId": "336f3c7d-8b28-4bec-d789-2a867c201af9",
        "colab": {
          "base_uri": "https://localhost:8080/",
          "height": 566
        }
      },
      "source": [
        "plt.figure()\n",
        "plt.ylabel(\"Loss (training and validation)\")\n",
        "plt.xlabel(\"Training Steps\")\n",
        "plt.ylim([0,2])\n",
        "plt.plot(hist[\"loss\"])\n",
        "plt.plot(hist[\"val_loss\"])\n",
        "\n",
        "plt.figure()\n",
        "plt.ylabel(\"Accuracy (training and validation)\")\n",
        "plt.xlabel(\"Training Steps\")\n",
        "plt.ylim([0,1])\n",
        "plt.plot(hist[\"accuracy\"])\n",
        "plt.plot(hist[\"val_accuracy\"])"
      ],
      "execution_count": 0,
      "outputs": [
        {
          "output_type": "execute_result",
          "data": {
            "text/plain": [
              "[<matplotlib.lines.Line2D at 0x7fe66d2fb6d8>]"
            ]
          },
          "metadata": {
            "tags": []
          },
          "execution_count": 9
        },
        {
          "output_type": "display_data",
          "data": {
            "image/png": "[encoded data removed]",
            "text/plain": [
              "<Figure size 432x288 with 1 Axes>"
            ]
          },
          "metadata": {
            "tags": []
          }
        },
        {
          "output_type": "display_data",
          "data": {
            "image/png": "[encoded data removed]",
            "text/plain": [
              "<Figure size 432x288 with 1 Axes>"
            ]
          },
          "metadata": {
            "tags": []
          }
        }
      ]
    },
    {
      "cell_type": "code",
      "metadata": {
        "id": "M8SLWXgP9IGZ",
        "colab_type": "code",
        "outputId": "175041b9-0e2e-4c34-ee63-0cf6b5fdf861",
        "colab": {
          "base_uri": "https://localhost:8080/",
          "height": 171
        }
      },
      "source": [
        "#Save Regular model and labels\n",
        "saved_model_path = \"gdrive/My Drive/Colab Notebooks/crop model\"\n",
        "tf.saved_model.save(model, saved_model_path)\n",
        "label_map=train_generator.class_indices\n",
        "reverse_label_map = {v: k for k, v in label_map.items()}\n",
        "import json\n",
        "with open('gdrive/My Drive/Colab Notebooks/crop model/crop_labels.json', 'w', encoding='utf-8') as f:\n",
        "    json.dump(reverse_label_map, f, ensure_ascii=False, indent=0)"
      ],
      "execution_count": 0,
      "outputs": [
        {
          "output_type": "stream",
          "text": [
            "WARNING:tensorflow:From /usr/local/lib/python3.6/dist-packages/tensorflow_core/python/ops/resource_variable_ops.py:1786: calling BaseResourceVariable.__init__ (from tensorflow.python.ops.resource_variable_ops) with constraint is deprecated and will be removed in a future version.\n",
            "Instructions for updating:\n",
            "If using Keras pass *_constraint arguments to layers.\n"
          ],
          "name": "stdout"
        },
        {
          "output_type": "stream",
          "text": [
            "WARNING:tensorflow:From /usr/local/lib/python3.6/dist-packages/tensorflow_core/python/ops/resource_variable_ops.py:1786: calling BaseResourceVariable.__init__ (from tensorflow.python.ops.resource_variable_ops) with constraint is deprecated and will be removed in a future version.\n",
            "Instructions for updating:\n",
            "If using Keras pass *_constraint arguments to layers.\n"
          ],
          "name": "stderr"
        },
        {
          "output_type": "stream",
          "text": [
            "INFO:tensorflow:Assets written to: gdrive/My Drive/Colab Notebooks/crop model/assets\n"
          ],
          "name": "stdout"
        },
        {
          "output_type": "stream",
          "text": [
            "INFO:tensorflow:Assets written to: gdrive/My Drive/Colab Notebooks/crop model/assets\n"
          ],
          "name": "stderr"
        }
      ]
    },
    {
      "cell_type": "code",
      "metadata": {
        "id": "2yAgMnKR-LEF",
        "colab_type": "code",
        "outputId": "057a08dd-c85d-4716-e66d-8fc069967d78",
        "colab": {
          "base_uri": "https://localhost:8080/",
          "height": 34
        }
      },
      "source": [
        "#Convert Regular model to lite_model suitable for android\n",
        "converter = tf.lite.TFLiteConverter.from_saved_model(saved_model_path)\n",
        "converter.optimizations = [tf.lite.Optimize.OPTIMIZE_FOR_LATENCY]\n",
        "tflite_model = converter.convert()\n",
        "open(\"gdrive/My Drive/Colab Notebooks/crop model/crop_model.tflite\", \"wb\").write(tflite_model)"
      ],
      "execution_count": 0,
      "outputs": [
        {
          "output_type": "execute_result",
          "data": {
            "text/plain": [
              "21931352"
            ]
          },
          "metadata": {
            "tags": []
          },
          "execution_count": 11
        }
      ]
    },
    {
      "cell_type": "code",
      "metadata": {
        "id": "EztfTkGh-9yH",
        "colab_type": "code",
        "outputId": "3b1cbd25-bf99-4965-c430-a86165fee7e5",
        "colab": {
          "base_uri": "https://localhost:8080/",
          "height": 84
        }
      },
      "source": [
        "interpreter = tf.lite.Interpreter(model_content=tflite_model)\n",
        "interpreter.allocate_tensors()\n",
        "\n",
        "# Print input shape and type\n",
        "print(interpreter.get_input_details()[0]['shape'])  # Example: [1 224 224 3]\n",
        "print(interpreter.get_input_details()[0]['dtype'])  # Example: <class 'numpy.float32'>\n",
        "\n",
        "# Print output shape and type\n",
        "print(interpreter.get_output_details()[0]['shape'])  # Example: [1 1000]\n",
        "print(interpreter.get_output_details()[0]['dtype'])  # Example: <class 'numpy.float32'>\n",
        "\n",
        "# This little helper wraps the TF Lite interpreter as a numpy-to-numpy function.\n",
        "def lite_model(images):\n",
        "  interpreter.allocate_tensors()\n",
        "  interpreter.set_tensor(interpreter.get_input_details()[0]['index'], images)\n",
        "  interpreter.invoke()\n",
        "  return interpreter.get_tensor(interpreter.get_output_details()[0]['index'])"
      ],
      "execution_count": 0,
      "outputs": [
        {
          "output_type": "stream",
          "text": [
            "[  1 299 299   3]\n",
            "<class 'numpy.float32'>\n",
            "[ 1 10]\n",
            "<class 'numpy.float32'>\n"
          ],
          "name": "stdout"
        }
      ]
    },
    {
      "cell_type": "code",
      "metadata": {
        "id": "h-sh3asMcIcZ",
        "colab_type": "code",
        "colab": {}
      },
      "source": [
        "#This is to test the actual_model not lite_model\n",
        "from keras.preprocessing import image\n",
        "import numpy as np\n",
        "from PIL import Image\n",
        "\n",
        "img=image.load_img(\"download.jpg\",target_size=(299,299))\n",
        "arr1=image.img_to_array(img)/255.0\n",
        "arr1 = np.expand_dims(arr1, axis=0)\n",
        "\n",
        "img=image.load_img(\"download2.jpg\",target_size=(299,299))\n",
        "arr2=image.img_to_array(img)/255.0\n",
        "arr2 = np.expand_dims(arr2, axis=0)\n",
        "\n",
        "img=image.load_img(\"download3.jpg\",target_size=(299,299))\n",
        "arr3=image.img_to_array(img)/255.0\n",
        "arr3 = np.expand_dims(arr3, axis=0)\n",
        "\n",
        "img=image.load_img(\"download4.jpg\",target_size=(299,299))\n",
        "arr4=image.img_to_array(img)/255.0\n",
        "arr4 = np.expand_dims(arr4, axis=0)\n",
        "\n",
        "img=image.load_img(\"download5.jpg\",target_size=(299,299))\n",
        "arr5=image.img_to_array(img)/255.0\n",
        "arr5 = np.expand_dims(arr5, axis=0)\n",
        "\n",
        "img=image.load_img(\"download6.jpg\",target_size=(299,299))\n",
        "arr6=image.img_to_array(img)/255.0\n",
        "arr6 = np.expand_dims(arr6, axis=0)\n",
        "\n",
        "img=image.load_img(\"download7.jpg\",target_size=(299,299))\n",
        "arr7=image.img_to_array(img)/255.0\n",
        "arr7 = np.expand_dims(arr7, axis=0)\n",
        "\n",
        "img=image.load_img(\"download8.jpg\",target_size=(299,299))\n",
        "arr8=image.img_to_array(img)/255.0\n",
        "arr8 = np.expand_dims(arr8, axis=0)\n",
        "\n",
        "images = np.vstack([arr1,arr2,arr3,arr4,arr5,arr6,arr7,arr8])\n",
        "classes = model.predict_classes(images, batch_size=10)\n",
        "print(classes)"
      ],
      "execution_count": 0,
      "outputs": []
    }
  ]
}